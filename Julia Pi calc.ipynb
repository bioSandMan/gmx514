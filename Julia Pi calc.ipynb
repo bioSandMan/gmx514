{
 "cells": [
  {
   "cell_type": "code",
   "execution_count": 1,
   "metadata": {
    "collapsed": false
   },
   "outputs": [],
   "source": [
    "using Distributed\n",
    "using BenchmarkTools\n",
    "\n",
    "function compute_pi(N::Int)\n",
    "    \"\"\"\n",
    "    Compute pi with a Monte Carlo simulation of N darts thrown in [-1,1]^2\n",
    "    Returns estimate of pi\n",
    "    \"\"\"\n",
    "    n_landed_in_circle = 0  # counts number of points that have radial coordinate < 1, i.e. in circle\n",
    "    for i = 1:N\n",
    "        x = rand() * 2 - 1  # uniformly distributed number on x-axis\n",
    "        y = rand() * 2 - 1  # uniformly distributed number on y-axis\n",
    "\n",
    "        r2 = x*x + y*y  # radius squared, in radial coordinates\n",
    "        if r2 < 1.0\n",
    "            n_landed_in_circle += 1\n",
    "        end\n",
    "    end\n",
    "\n",
    "    return n_landed_in_circle / N * 4.0    \n",
    "end\n",
    "\n",
    "@btime compute_pi(1000000)"
   ]
  },
  {
   "cell_type": "code",
   "execution_count": null,
   "metadata": {
    "collapsed": false
   },
   "outputs": [],
   "source": [
    "17/4.5"
   ]
  },
  {
   "cell_type": "code",
   "execution_count": null,
   "metadata": {
    "collapsed": true
   },
   "outputs": [],
   "source": []
  }
 ],
 "metadata": {
  "kernelspec": {
   "display_name": "Julia 1.0.2",
   "language": "julia",
   "name": "julia-1.0"
  },
  "language_info": {
   "file_extension": ".jl",
   "mimetype": "application/julia",
   "name": "julia",
   "version": "1.0.2"
  }
 },
 "nbformat": 4,
 "nbformat_minor": 0
}
